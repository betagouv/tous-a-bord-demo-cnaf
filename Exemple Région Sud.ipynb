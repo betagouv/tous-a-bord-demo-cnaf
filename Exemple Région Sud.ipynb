{
 "cells": [
  {
   "cell_type": "code",
   "execution_count": 2,
   "id": "e782f8af-ed70-4aac-acba-90853d3ea24d",
   "metadata": {},
   "outputs": [],
   "source": [
    "def filter_data(df):\n",
    "    return df[df.QF<=500]"
   ]
  },
  {
   "cell_type": "code",
   "execution_count": 3,
   "id": "2fc56779-23cc-4b9e-af6c-25d8848d6377",
   "metadata": {},
   "outputs": [],
   "source": [
    "def filter_data(df):\n",
    "    return df[df.QF<=500 + df.AAH]"
   ]
  },
  {
   "cell_type": "code",
   "execution_count": null,
   "id": "57672494-a558-44a7-a3e3-cc43aea7aafa",
   "metadata": {},
   "outputs": [],
   "source": [
    "def filter_data(df):\n",
    "    return df[(df.QF>500 * df.QF<=710) + df.ASPA]"
   ]
  },
  {
   "cell_type": "code",
   "execution_count": null,
   "id": "93d9c23b-ea03-4c05-81f1-7222231f955c",
   "metadata": {},
   "outputs": [],
   "source": [
    "def filter_data(df):\n",
    "    return df[df.QF>500 * (df.QF<=710 + df.ASPA)]"
   ]
  }
 ],
 "metadata": {
  "kernelspec": {
   "display_name": "Python 3 (ipykernel)",
   "language": "python",
   "name": "python3"
  },
  "language_info": {
   "codemirror_mode": {
    "name": "ipython",
    "version": 3
   },
   "file_extension": ".py",
   "mimetype": "text/x-python",
   "name": "python",
   "nbconvert_exporter": "python",
   "pygments_lexer": "ipython3",
   "version": "3.9.16"
  }
 },
 "nbformat": 4,
 "nbformat_minor": 5
}
